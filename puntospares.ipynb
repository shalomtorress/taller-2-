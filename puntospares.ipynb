{
  "nbformat": 4,
  "nbformat_minor": 0,
  "metadata": {
    "colab": {
      "provenance": []
    },
    "kernelspec": {
      "name": "python3",
      "display_name": "Python 3"
    },
    "language_info": {
      "name": "python"
    }
  },
  "cells": [
    {
      "cell_type": "markdown",
      "source": [
        "# Punto 2"
      ],
      "metadata": {
        "id": "hpeU11do9ki5"
      }
    },
    {
      "cell_type": "code",
      "source": [
        "def separarpartes(numero):\n",
        "  parte_entera = int(numero)\n",
        "\n",
        "  parte_decimal = numero - parte_entera\n",
        "\n",
        "  lista_digitos_decimales = [int(digito) for digito in str(parte_decimal)[2:]]\n",
        "\n",
        "  return parte_entera, lista_digitos_decimales\n",
        "\n",
        "if __name__ == \"__main__\":\n",
        "\n",
        "  numero = float(input(\"Introduce un número flotante: \"))\n",
        "\n",
        "  parte_entera, lista_digitos_decimales = separarpartes(numero)\n",
        "\n",
        "  print(\"La parte entera del número es:\", parte_entera)\n",
        "  print(\"Los dígitos de la parte decimal del número son:\", lista_digitos_decimales)"
      ],
      "metadata": {
        "colab": {
          "base_uri": "https://localhost:8080/"
        },
        "id": "6f0jS5HM9oQ8",
        "outputId": "3713f25d-d83b-4516-f099-bc7ee0672790"
      },
      "execution_count": 3,
      "outputs": [
        {
          "output_type": "stream",
          "name": "stdout",
          "text": [
            "Introduce un número flotante: 2.41\n",
            "La parte entera del número es: 2\n",
            "Los dígitos de la parte decimal del número son: [4, 1, 0, 0, 0, 0, 0, 0, 0, 0, 0, 0, 0, 0, 0, 1, 4]\n"
          ]
        }
      ]
    },
    {
      "cell_type": "markdown",
      "source": [
        "# Punto 4"
      ],
      "metadata": {
        "id": "qgXoOEn--cQi"
      }
    },
    {
      "cell_type": "code",
      "source": [
        "import math\n",
        "def factorial(i: int):\n",
        "    if i == 0:\n",
        "        return 1\n",
        "    else:\n",
        "        p = 1\n",
        "        for numero in range(1, i + 1):\n",
        "            p *= numero\n",
        "        return p\n",
        "iteraciones = int(input(\"Ingrese número de iteraciones: \"))\n",
        "x = float(input(\"Ingrese valor x: \"))\n",
        "suma : float = 0\n",
        "for s in range(iteraciones + 1):\n",
        "    d = d = (x ** (2 * s)) / factorial(2 * s)\n",
        "    d *= (-1) ** s\n",
        "    suma += d\n",
        "print(f\"aproximación cos de {x} es:{suma}\")\n",
        "print(f\"valor cos de {x} es:{math.cos(x)}\")\n",
        "z = abs((abs(suma - math.cos(x))/math.cos(x))*100)\n",
        "print(f\"porcentaje de error: {z}\")"
      ],
      "metadata": {
        "colab": {
          "base_uri": "https://localhost:8080/"
        },
        "id": "IBL2BAah-hiW",
        "outputId": "29969417-2a24-44d4-f21d-672039cb5733"
      },
      "execution_count": 4,
      "outputs": [
        {
          "output_type": "stream",
          "name": "stdout",
          "text": [
            "Ingrese número de iteraciones: 22\n",
            "Ingrese valor x: 41\n",
            "aproximación cos de 41.0 es:1.5806274034199956e+16\n",
            "valor cos de 41.0 es:-0.9873392775238264\n",
            "porcentaje de error: 1.6008959021503647e+18\n"
          ]
        }
      ]
    },
    {
      "cell_type": "markdown",
      "source": [
        "# Punto 6"
      ],
      "metadata": {
        "id": "2Z9Je8qa-qo3"
      }
    },
    {
      "cell_type": "code",
      "source": [
        "def hay_repetidos(lista):\n",
        "  repetidos = False\n",
        "\n",
        "  for i in range(len(lista)):\n",
        "\n",
        "    if lista[i] in lista[:i]:\n",
        "      repetidos = True\n",
        "      break\n",
        "\n",
        "  return repetidos\n",
        "\n",
        "\n",
        "if __name__ == \"__main__\":\n",
        "  lista = list(map(int, input(\"Ingrese la lista de números separados por espacios: \").split()))\n",
        "\n",
        "  repetidos = hay_repetidos(lista)\n",
        "\n",
        "  print(f\"Existen elementos repetidos en la lista: {repetidos}\")"
      ],
      "metadata": {
        "colab": {
          "base_uri": "https://localhost:8080/"
        },
        "id": "nHSj_kEW-u3i",
        "outputId": "59372b92-22a3-473a-ed1f-90990aff31ac"
      },
      "execution_count": 5,
      "outputs": [
        {
          "output_type": "stream",
          "name": "stdout",
          "text": [
            "Ingrese la lista de números separados por espacios: 2 5 8 4\n",
            "Existen elementos repetidos en la lista: False\n"
          ]
        }
      ]
    },
    {
      "cell_type": "markdown",
      "source": [
        "# Punto 8"
      ],
      "metadata": {
        "id": "RRYtVsJf-3pZ"
      }
    },
    {
      "cell_type": "code",
      "source": [
        "# Función para encontrar elementos en la primera lista que no están en la segunda lista\n",
        "def encontrar_elementos_no_comunes(lista1, lista2):\n",
        "    # Convierte ambas listas en conjuntos para realizar la operación de diferencia\n",
        "    conjunto1 = set(lista1)\n",
        "    conjunto2 = set(lista2)\n",
        "\n",
        "    # Encuentra los elementos en el primer conjunto que no están en el segundo conjunto\n",
        "    elementos_no_comunes = conjunto1 - conjunto2\n",
        "\n",
        "    return list(elementos_no_comunes)  # Convierte el resultado de nuevo en una lista\n",
        "\n",
        "# Ejemplo de uso\n",
        "lista1 = [1, 2, 3, 4, 5]\n",
        "lista2 = [3, 4, 5, 6, 7]\n",
        "\n",
        "elementos_no_comunes = encontrar_elementos_no_comunes(lista1, lista2)\n",
        "print(\"Elementos en la primera lista que no están en la segunda lista:\", elementos_no_comunes)"
      ],
      "metadata": {
        "colab": {
          "base_uri": "https://localhost:8080/"
        },
        "id": "aG3M_AGy-6PN",
        "outputId": "cb85fa86-677b-455b-f8da-a0480089973f"
      },
      "execution_count": 6,
      "outputs": [
        {
          "output_type": "stream",
          "name": "stdout",
          "text": [
            "Elementos en la primera lista que no están en la segunda lista: [1, 2]\n"
          ]
        }
      ]
    },
    {
      "cell_type": "markdown",
      "source": [
        "# Punto 10"
      ],
      "metadata": {
        "id": "qPrO7fZ8-_kg"
      }
    },
    {
      "cell_type": "code",
      "source": [
        "# Usando un patrón de acumulación:\n",
        "def multiplos_de_tres_acumulacion(lista):\n",
        "    multiplos_de_tres = []\n",
        "    for numero in lista:\n",
        "        if numero % 3 == 0:\n",
        "            multiplos_de_tres.append(numero)\n",
        "    return multiplos_de_tres\n",
        "\n",
        "# Ejemplo de uso\n",
        "lista_A = [1, 2, 3, 6, 9, 12, 15]\n",
        "multiplos = multiplos_de_tres_acumulacion(lista_A)\n",
        "print(multiplos)\n",
        "# Usando una comprensión de listas:\n",
        "def multiplos_de_tres_comprension(lista):\n",
        "    return [numero for numero in lista if numero % 3 == 0]\n",
        "\n",
        "# Ejemplo de uso\n",
        "lista_A = [1, 2, 3, 6, 9, 12, 15]\n",
        "multiplos = multiplos_de_tres_comprension(lista_A)\n",
        "print(multiplos)"
      ],
      "metadata": {
        "colab": {
          "base_uri": "https://localhost:8080/"
        },
        "id": "BsvUoFNP_CCY",
        "outputId": "6bc871e8-f58f-46c4-84c1-323de1867bc8"
      },
      "execution_count": 7,
      "outputs": [
        {
          "output_type": "stream",
          "name": "stdout",
          "text": [
            "[3, 6, 9, 12, 15]\n",
            "[3, 6, 9, 12, 15]\n"
          ]
        }
      ]
    }
  ]
}